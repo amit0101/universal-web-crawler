{
 "cells": [
  {
   "cell_type": "code",
   "execution_count": null,
   "id": "48c9ef8d",
   "metadata": {},
   "outputs": [],
   "source": [
    "import pandas as pd\n",
    "import numpy as np\n",
    "import selenium as sel\n",
    "from matplotlib import pyplot as plt"
   ]
  },
  {
   "cell_type": "code",
   "execution_count": null,
   "id": "3fa65607",
   "metadata": {},
   "outputs": [],
   "source": [
    "from selenium.webdriver.common.by import By\n",
    "from selenium import webdriver\n",
    "from selenium.webdriver.support.ui import WebDriverWait\n",
    "from selenium.webdriver.support import expected_conditions as EC\n",
    "from selenium.common.exceptions import TimeoutException\n",
    "from selenium.common.exceptions import NoSuchElementException\n",
    "from selenium.common.exceptions import StaleElementReferenceException"
   ]
  },
  {
   "cell_type": "code",
   "execution_count": null,
   "id": "136e165d",
   "metadata": {},
   "outputs": [],
   "source": [
    "import networkx as nx"
   ]
  },
  {
   "cell_type": "code",
   "execution_count": null,
   "id": "f98a1a03",
   "metadata": {},
   "outputs": [],
   "source": [
    "url = \"https://www.un.org/en\"\n",
    "pages_limit = 50\n",
    "conn_limit = 3"
   ]
  },
  {
   "cell_type": "code",
   "execution_count": null,
   "id": "48277c46",
   "metadata": {},
   "outputs": [],
   "source": [
    "base_url = url.replace(\"https://\",\"\").replace(\"http://\",\"\")[\n",
    "    0:url.replace(\"https://\",\"\").replace(\"http://\",\"\").find(\"/\")]\n",
    "counter = 0\n",
    "links_matrix = {}\n",
    "links_ref = {url: 'Home'}"
   ]
  },
  {
   "cell_type": "code",
   "execution_count": null,
   "id": "46ed56e2",
   "metadata": {},
   "outputs": [],
   "source": [
    "driver = webdriver.Safari()"
   ]
  },
  {
   "cell_type": "code",
   "execution_count": null,
   "id": "bd56eb64",
   "metadata": {},
   "outputs": [],
   "source": [
    "def parse_links(url, counter):\n",
    "    try:\n",
    "        driver.get(url)\n",
    "        ignored_exceptions=(NoSuchElementException,StaleElementReferenceException,)\n",
    "        WebDriverWait(driver, 30, ignored_exceptions=ignored_exceptions).until(\n",
    "            EC.presence_of_element_located((By.XPATH, \"//a[@href]\")))\n",
    "        links = driver.find_elements_by_xpath(\"//a[@href]\")\n",
    "        if counter==0:\n",
    "            driver.implicitly_wait(5)\n",
    "        links = [l for l in links if l.get_attribute(\"href\") not in \\\n",
    "                 [\"\", \"javascript:void(0)\", \"javascript:void(0);\"] and \\\n",
    "                 l.get_attribute(\"href\") not in links_ref.keys() and base_url in l.get_attribute(\"href\") and \\\n",
    "                 \".pdf\" not in l.get_attribute(\"href\")]\n",
    "        links = links[0:min(conn_limit, len(links))]\n",
    "        if len(links)>0:\n",
    "            links_matrix[url] = {} \n",
    "            for link in links:\n",
    "                counter += 1\n",
    "                if counter>pages_limit:\n",
    "                    return None\n",
    "                else:\n",
    "                    print(\"Pages parsed:\", counter)\n",
    "                    links_ref[link.get_attribute(\"href\")] = link.text.strip()\n",
    "                    links_matrix[url][link.get_attribute(\"href\")] = 1\n",
    "                    parse_links(link.get_attribute(\"href\"), counter)\n",
    "        else:\n",
    "            pass\n",
    "    except TimeoutException:\n",
    "        print(\"Timeout. Page skipped.\")\n",
    "        pass\n",
    "    return None"
   ]
  },
  {
   "cell_type": "code",
   "execution_count": null,
   "id": "77305a26",
   "metadata": {},
   "outputs": [],
   "source": [
    "parse_links(url, 0)"
   ]
  },
  {
   "cell_type": "code",
   "execution_count": null,
   "id": "b483cc6d",
   "metadata": {
    "scrolled": true
   },
   "outputs": [],
   "source": [
    "pd.DataFrame(links_matrix)"
   ]
  },
  {
   "cell_type": "code",
   "execution_count": null,
   "id": "0e0b5a65",
   "metadata": {},
   "outputs": [],
   "source": [
    "G = nx.DiGraph()\n",
    "for x in links_matrix.keys():\n",
    "    for y in links_matrix[x].keys():\n",
    "        G.add_edge(links_ref[x][:20], links_ref[y][:20])"
   ]
  },
  {
   "cell_type": "code",
   "execution_count": null,
   "id": "75421e99",
   "metadata": {
    "scrolled": true
   },
   "outputs": [],
   "source": [
    "links_ref"
   ]
  },
  {
   "cell_type": "code",
   "execution_count": null,
   "id": "d908be69",
   "metadata": {},
   "outputs": [],
   "source": [
    "plt.figure(figsize=(18,18))\n",
    "nx.draw(G, with_labels=True)\n",
    "plt.show()"
   ]
  },
  {
   "cell_type": "code",
   "execution_count": null,
   "id": "a6d2c0b2",
   "metadata": {},
   "outputs": [],
   "source": []
  },
  {
   "cell_type": "code",
   "execution_count": null,
   "id": "1af380aa",
   "metadata": {},
   "outputs": [],
   "source": []
  }
 ],
 "metadata": {
  "kernelspec": {
   "display_name": "Python 3 (ipykernel)",
   "language": "python",
   "name": "python3"
  },
  "language_info": {
   "codemirror_mode": {
    "name": "ipython",
    "version": 3
   },
   "file_extension": ".py",
   "mimetype": "text/x-python",
   "name": "python",
   "nbconvert_exporter": "python",
   "pygments_lexer": "ipython3",
   "version": "3.9.12"
  }
 },
 "nbformat": 4,
 "nbformat_minor": 5
}
